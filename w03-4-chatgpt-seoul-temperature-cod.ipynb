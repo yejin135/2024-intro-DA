{
 "cells": [
  {
   "cell_type": "code",
   "execution_count": 1,
   "id": "e730e34f-8661-4348-b2f6-218f021c24a2",
   "metadata": {},
   "outputs": [
    {
     "ename": "NameError",
     "evalue": "name 'data' is not defined",
     "output_type": "error",
     "traceback": [
      "\u001b[1;31m---------------------------------------------------------------------------\u001b[0m",
      "\u001b[1;31mNameError\u001b[0m                                 Traceback (most recent call last)",
      "Cell \u001b[1;32mIn[1], line 4\u001b[0m\n\u001b[0;32m      1\u001b[0m \u001b[38;5;66;03m# The data appears to have extra tab characters. We'll clean it up and find the date with the highest temperature.\u001b[39;00m\n\u001b[0;32m      2\u001b[0m \n\u001b[0;32m      3\u001b[0m \u001b[38;5;66;03m# Clean the '날짜' (Date) column\u001b[39;00m\n\u001b[1;32m----> 4\u001b[0m data[\u001b[38;5;124m'\u001b[39m\u001b[38;5;124m날짜\u001b[39m\u001b[38;5;124m'\u001b[39m] \u001b[38;5;241m=\u001b[39m data[\u001b[38;5;124m'\u001b[39m\u001b[38;5;124m날짜\u001b[39m\u001b[38;5;124m'\u001b[39m]\u001b[38;5;241m.\u001b[39mstr\u001b[38;5;241m.\u001b[39mstrip()\n\u001b[0;32m      6\u001b[0m \u001b[38;5;66;03m# Convert the '최고기온(℃)' (Highest Temperature) column to numeric for calculations\u001b[39;00m\n\u001b[0;32m      7\u001b[0m data[\u001b[38;5;124m'\u001b[39m\u001b[38;5;124m최고기온(℃)\u001b[39m\u001b[38;5;124m'\u001b[39m] \u001b[38;5;241m=\u001b[39m pd\u001b[38;5;241m.\u001b[39mto_numeric(data[\u001b[38;5;124m'\u001b[39m\u001b[38;5;124m최고기온(℃)\u001b[39m\u001b[38;5;124m'\u001b[39m], errors\u001b[38;5;241m=\u001b[39m\u001b[38;5;124m'\u001b[39m\u001b[38;5;124mcoerce\u001b[39m\u001b[38;5;124m'\u001b[39m)\n",
      "\u001b[1;31mNameError\u001b[0m: name 'data' is not defined"
     ]
    }
   ],
   "source": [
    "# The data appears to have extra tab characters. We'll clean it up and find the date with the highest temperature.\n",
    "\n",
    "# Clean the '날짜' (Date) column\n",
    "data['날짜'] = data['날짜'].str.strip() #'name 'data' is not defined'라는 오류가 생김\n",
    "\n",
    "# Convert the '최고기온(℃)' (Highest Temperature) column to numeric for calculations\n",
    "data['최고기온(℃)'] = pd.to_numeric(data['최고기온(℃)'], errors='coerce')\n",
    "\n",
    "# Find the row with the highest temperature\n",
    "max_temp_row = data.loc[data['최고기온(℃)'].idxmax()]\n",
    "\n",
    "max_temp_row[['날짜', '최고기온(℃)']]\n"
   ]
  },
  {
   "cell_type": "code",
   "execution_count": 3,
   "id": "8580ed2c-306c-4276-9fa5-c78182cf5cec",
   "metadata": {},
   "outputs": [
    {
     "data": {
      "text/plain": [
       "날짜         2018-08-01\n",
       "최고기온(℃)          39.6\n",
       "Name: 5144, dtype: object"
      ]
     },
     "execution_count": 3,
     "metadata": {},
     "output_type": "execute_result"
    }
   ],
   "source": [
    "#chatgpt에게 수정을 요청해서 다음과 같은 결과를 얻음\n",
    "import pandas as pd\n",
    "\n",
    "# Load the dataset (using the correct encoding for Korean characters)\n",
    "file_path = 'seoul.csv'\n",
    "data = pd.read_csv(file_path, encoding='cp949')\n",
    "\n",
    "# Clean the '날짜' (Date) column\n",
    "data['날짜'] = data['날짜'].str.strip()\n",
    "\n",
    "# Convert the '최고기온(℃)' (Highest Temperature) column to numeric for calculations\n",
    "data['최고기온(℃)'] = pd.to_numeric(data['최고기온(℃)'], errors='coerce')\n",
    "\n",
    "# Find the row with the highest temperature\n",
    "max_temp_row = data.loc[data['최고기온(℃)'].idxmax()]\n",
    "\n",
    "# Display the date and the highest temperature\n",
    "max_temp_row[['날짜', '최고기온(℃)']]\n"
   ]
  },
  {
   "cell_type": "code",
   "execution_count": null,
   "id": "6429bc55-eb41-469e-bbe0-6d804ea06440",
   "metadata": {},
   "outputs": [],
   "source": []
  }
 ],
 "metadata": {
  "kernelspec": {
   "display_name": "Python 3 (ipykernel)",
   "language": "python",
   "name": "python3"
  },
  "language_info": {
   "codemirror_mode": {
    "name": "ipython",
    "version": 3
   },
   "file_extension": ".py",
   "mimetype": "text/x-python",
   "name": "python",
   "nbconvert_exporter": "python",
   "pygments_lexer": "ipython3",
   "version": "3.11.7"
  }
 },
 "nbformat": 4,
 "nbformat_minor": 5
}
